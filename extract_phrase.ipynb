{
 "cells": [
  {
   "cell_type": "markdown",
   "metadata": {},
   "source": [
    "# Import thư viện cần dùng"
   ]
  },
  {
   "cell_type": "code",
   "execution_count": 10,
   "metadata": {},
   "outputs": [],
   "source": [
    "from nltk.tree import ParentedTree"
   ]
  },
  {
   "cell_type": "markdown",
   "metadata": {},
   "source": [
    "# Định nghĩa các hàm liên quan"
   ]
  },
  {
   "cell_type": "code",
   "execution_count": 59,
   "metadata": {},
   "outputs": [],
   "source": [
    "def all_label(nltk_tree):\n",
    "    for s in nltk_tree.subtrees():\n",
    "        if s.label() != 'S' and s.label() != 'ROOT' and s.height() > 2:\n",
    "            print(s.label() + ': ', end='')\n",
    "            print(' '.join(s.leaves()).replace('_', ' '))      "
   ]
  },
  {
   "cell_type": "code",
   "execution_count": 45,
   "metadata": {},
   "outputs": [],
   "source": [
    "def get_text_label(nltk_tree, get_label='NP'):\n",
    "    for s in nltk_tree.subtrees():\n",
    "        if s.label() == get_label:\n",
    "            print(' '.join(s.leaves()).replace('_', ' '))"
   ]
  },
  {
   "cell_type": "code",
   "execution_count": 29,
   "metadata": {},
   "outputs": [],
   "source": [
    "def get_text_tag(nltk_tree, get_tag='N'):\n",
    "    for s in nltk_tree.subtrees(lambda t: t.height() == 2):\n",
    "        if s.label() == get_tag:\n",
    "            print(s.leaves()[0])"
   ]
  },
  {
   "cell_type": "markdown",
   "metadata": {},
   "source": [
    "# Demo"
   ]
  },
  {
   "cell_type": "markdown",
   "metadata": {},
   "source": [
    "## Tiếng Việt"
   ]
  },
  {
   "cell_type": "code",
   "execution_count": 46,
   "metadata": {},
   "outputs": [],
   "source": [
    "sent_parse = '(S (NP (Nc Con) (N chó) (AP (A trắng))) (VP (V cắn) (NP (Nc con) (N mèo) (A đen))) (. .))'"
   ]
  },
  {
   "cell_type": "code",
   "execution_count": 47,
   "metadata": {},
   "outputs": [],
   "source": [
    "nltk_tree = ParentedTree.fromstring(sent_parse)"
   ]
  },
  {
   "cell_type": "code",
   "execution_count": 48,
   "metadata": {},
   "outputs": [
    {
     "name": "stdout",
     "output_type": "stream",
     "text": [
      "               S                     \n",
      "      _________|___________________   \n",
      "     NP                VP          | \n",
      "  ___|____      _______|___        |  \n",
      " |   |    AP   |           NP      | \n",
      " |   |    |    |    _______|___    |  \n",
      " Nc  N    A    V   Nc      N   A   . \n",
      " |   |    |    |   |       |   |   |  \n",
      "Con chó trắng cắn con     mèo đen  . \n",
      "\n"
     ]
    }
   ],
   "source": [
    "nltk_tree.pretty_print()"
   ]
  },
  {
   "cell_type": "markdown",
   "metadata": {},
   "source": [
    "### Rút trích NP, VP, AP trong câu"
   ]
  },
  {
   "cell_type": "markdown",
   "metadata": {},
   "source": [
    "#### Toàn bộ ngữ trong câu, bao gồm ngữ chính và ngữ phụ (ngữ trong ngữ)"
   ]
  },
  {
   "cell_type": "code",
   "execution_count": 50,
   "metadata": {},
   "outputs": [
    {
     "name": "stdout",
     "output_type": "stream",
     "text": [
      "NP: Con chó trắng\n",
      "AP: trắng\n",
      "VP: cắn con mèo đen\n",
      "NP: con mèo đen\n"
     ]
    }
   ],
   "source": [
    "all_label(nltk_tree)"
   ]
  },
  {
   "cell_type": "markdown",
   "metadata": {},
   "source": [
    "#### Rút trích ngữ chính trong câu"
   ]
  },
  {
   "cell_type": "markdown",
   "metadata": {},
   "source": [
    "Rút trích danh ngữ chính trong câu (Danh ngữ chính là danh ngữ nằm trong S hoặc SBAR)"
   ]
  },
  {
   "cell_type": "code",
   "execution_count": 51,
   "metadata": {},
   "outputs": [
    {
     "name": "stdout",
     "output_type": "stream",
     "text": [
      "Con chó trắng\n",
      "con mèo đen\n"
     ]
    }
   ],
   "source": [
    "get_text_label(nltk_tree, 'NP')"
   ]
  },
  {
   "cell_type": "markdown",
   "metadata": {},
   "source": [
    "Rút trích danh từ chính trong câu (danh từ chính là danh từ nằm trong danh ngữ)"
   ]
  },
  {
   "cell_type": "code",
   "execution_count": 52,
   "metadata": {},
   "outputs": [
    {
     "name": "stdout",
     "output_type": "stream",
     "text": [
      "chó\n",
      "mèo\n"
     ]
    }
   ],
   "source": [
    "get_text_tag(nltk_tree, 'N')"
   ]
  },
  {
   "cell_type": "markdown",
   "metadata": {},
   "source": [
    "Rút trích động ngữ chính trong câu"
   ]
  },
  {
   "cell_type": "code",
   "execution_count": 53,
   "metadata": {},
   "outputs": [
    {
     "name": "stdout",
     "output_type": "stream",
     "text": [
      "cắn con mèo đen\n"
     ]
    }
   ],
   "source": [
    "get_text_label(nltk_tree, 'VP')"
   ]
  },
  {
   "cell_type": "markdown",
   "metadata": {},
   "source": [
    "Rút trích động từ trong câu"
   ]
  },
  {
   "cell_type": "code",
   "execution_count": 33,
   "metadata": {},
   "outputs": [
    {
     "name": "stdout",
     "output_type": "stream",
     "text": [
      "cắn\n"
     ]
    }
   ],
   "source": [
    "get_text_tag(nltk_tree, 'V')"
   ]
  },
  {
   "cell_type": "markdown",
   "metadata": {},
   "source": [
    "Rút trích tính ngữ chính trong câu"
   ]
  },
  {
   "cell_type": "code",
   "execution_count": 54,
   "metadata": {},
   "outputs": [
    {
     "name": "stdout",
     "output_type": "stream",
     "text": [
      "trắng\n"
     ]
    }
   ],
   "source": [
    "get_text_label(nltk_tree, 'AP')"
   ]
  },
  {
   "cell_type": "markdown",
   "metadata": {},
   "source": [
    "Rút trích tính từ chính trong câu"
   ]
  },
  {
   "cell_type": "code",
   "execution_count": 35,
   "metadata": {},
   "outputs": [
    {
     "name": "stdout",
     "output_type": "stream",
     "text": [
      "trắng\n",
      "đen\n"
     ]
    }
   ],
   "source": [
    "get_text_tag(nltk_tree, 'A')"
   ]
  },
  {
   "cell_type": "markdown",
   "metadata": {},
   "source": [
    "## Tiếng Anh"
   ]
  },
  {
   "cell_type": "code",
   "execution_count": 55,
   "metadata": {},
   "outputs": [],
   "source": [
    "sent_parse = '(ROOT\\\n",
    "  (S\\\n",
    "    (NP (DT The) (NN man))\\\n",
    "    (VP (VBD sat)\\\n",
    "      (PP (IN on)\\\n",
    "        (NP (DT the) (NN chair))))\\\n",
    "    (. .)))'"
   ]
  },
  {
   "cell_type": "code",
   "execution_count": 56,
   "metadata": {},
   "outputs": [],
   "source": [
    "nltk_tree = ParentedTree.fromstring(sent_parse)"
   ]
  },
  {
   "cell_type": "code",
   "execution_count": 57,
   "metadata": {},
   "outputs": [
    {
     "name": "stdout",
     "output_type": "stream",
     "text": [
      "                ROOT                      \n",
      "                 |                         \n",
      "                 S                        \n",
      "      ___________|______________________   \n",
      "     |                VP                | \n",
      "     |        ________|___              |  \n",
      "     |       |            PP            | \n",
      "     |       |    ________|___          |  \n",
      "     NP      |   |            NP        | \n",
      "  ___|___    |   |         ___|____     |  \n",
      " DT      NN VBD  IN       DT       NN   . \n",
      " |       |   |   |        |        |    |  \n",
      "The     man sat  on      the     chair  . \n",
      "\n"
     ]
    }
   ],
   "source": [
    "nltk_tree.pretty_print()"
   ]
  },
  {
   "cell_type": "markdown",
   "metadata": {},
   "source": [
    "### Rút trích NP, VP, AP trong câu"
   ]
  },
  {
   "cell_type": "markdown",
   "metadata": {},
   "source": [
    "#### Toàn bộ ngữ trong câu, bao gồm ngữ chính và ngữ phụ (ngữ trong ngữ)"
   ]
  },
  {
   "cell_type": "code",
   "execution_count": 60,
   "metadata": {},
   "outputs": [
    {
     "name": "stdout",
     "output_type": "stream",
     "text": [
      "NP: The man\n",
      "VP: sat on the chair\n",
      "PP: on the chair\n",
      "NP: the chair\n"
     ]
    }
   ],
   "source": [
    "all_label(nltk_tree)"
   ]
  },
  {
   "cell_type": "markdown",
   "metadata": {},
   "source": [
    "#### Rút trích ngữ chính trong câu"
   ]
  },
  {
   "cell_type": "markdown",
   "metadata": {},
   "source": [
    "Rút trích danh ngữ chính trong câu (Danh ngữ chính là danh ngữ nằm trong S hoặc SBAR)"
   ]
  },
  {
   "cell_type": "code",
   "execution_count": 61,
   "metadata": {},
   "outputs": [
    {
     "name": "stdout",
     "output_type": "stream",
     "text": [
      "The man\n",
      "the chair\n"
     ]
    }
   ],
   "source": [
    "get_text_label(nltk_tree, 'NP')"
   ]
  },
  {
   "cell_type": "markdown",
   "metadata": {},
   "source": [
    "Rút trích danh từ chính trong câu (danh từ chính là danh từ nằm trong danh ngữ)"
   ]
  },
  {
   "cell_type": "code",
   "execution_count": 62,
   "metadata": {},
   "outputs": [
    {
     "name": "stdout",
     "output_type": "stream",
     "text": [
      "man\n",
      "chair\n"
     ]
    }
   ],
   "source": [
    "get_text_tag(nltk_tree, 'NN')"
   ]
  },
  {
   "cell_type": "markdown",
   "metadata": {},
   "source": [
    "Rút trích động ngữ chính trong câu"
   ]
  },
  {
   "cell_type": "code",
   "execution_count": 63,
   "metadata": {},
   "outputs": [
    {
     "name": "stdout",
     "output_type": "stream",
     "text": [
      "sat on the chair\n"
     ]
    }
   ],
   "source": [
    "get_text_label(nltk_tree, 'VP')"
   ]
  },
  {
   "cell_type": "markdown",
   "metadata": {},
   "source": [
    "Rút trích động từ trong câu"
   ]
  },
  {
   "cell_type": "code",
   "execution_count": 64,
   "metadata": {},
   "outputs": [
    {
     "name": "stdout",
     "output_type": "stream",
     "text": [
      "sat\n"
     ]
    }
   ],
   "source": [
    "get_text_tag(nltk_tree, 'VBD')"
   ]
  },
  {
   "cell_type": "markdown",
   "metadata": {},
   "source": [
    "Rút trích tính ngữ chính trong câu"
   ]
  },
  {
   "cell_type": "code",
   "execution_count": 65,
   "metadata": {},
   "outputs": [
    {
     "name": "stdout",
     "output_type": "stream",
     "text": [
      "on the chair\n"
     ]
    }
   ],
   "source": [
    "get_text_label(nltk_tree, 'PP')"
   ]
  },
  {
   "cell_type": "markdown",
   "metadata": {},
   "source": [
    "Rút trích tính từ chính trong câu"
   ]
  },
  {
   "cell_type": "code",
   "execution_count": 67,
   "metadata": {},
   "outputs": [
    {
     "name": "stdout",
     "output_type": "stream",
     "text": [
      "on\n"
     ]
    }
   ],
   "source": [
    "get_text_tag(nltk_tree, 'IN')"
   ]
  },
  {
   "cell_type": "code",
   "execution_count": null,
   "metadata": {},
   "outputs": [],
   "source": []
  }
 ],
 "metadata": {
  "kernelspec": {
   "display_name": "Python 3",
   "language": "python",
   "name": "python3"
  },
  "language_info": {
   "codemirror_mode": {
    "name": "ipython",
    "version": 3
   },
   "file_extension": ".py",
   "mimetype": "text/x-python",
   "name": "python",
   "nbconvert_exporter": "python",
   "pygments_lexer": "ipython3",
   "version": "3.6.8"
  },
  "toc-autonumbering": true
 },
 "nbformat": 4,
 "nbformat_minor": 4
}
